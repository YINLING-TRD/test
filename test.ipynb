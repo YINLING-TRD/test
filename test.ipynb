{
 "cells": [
  {
   "cell_type": "code",
   "execution_count": 1,
   "id": "c2a0f4ac-cc43-46b1-a9e3-2492dad61cf3",
   "metadata": {},
   "outputs": [],
   "source": [
    "import numpy as np "
   ]
  },
  {
   "cell_type": "code",
   "execution_count": 5,
   "id": "db2fb77a-2b29-4ddf-9b71-b8d5af87dd78",
   "metadata": {},
   "outputs": [
    {
     "data": {
      "text/plain": [
       "array([ 2.  ,  2.78,  3.56,  4.34,  5.12,  5.9 ,  6.68,  7.46,  8.24,\n",
       "        9.02,  9.8 , 10.58, 11.36, 12.14, 12.92, 13.7 , 14.48, 15.26,\n",
       "       16.04, 16.82, 17.6 , 18.38, 19.16, 19.94, 20.72, 21.5 , 22.28,\n",
       "       23.06, 23.84, 24.62, 25.4 , 26.18, 26.96, 27.74, 28.52, 29.3 ,\n",
       "       30.08, 30.86, 31.64, 32.42, 33.2 , 33.98, 34.76, 35.54, 36.32,\n",
       "       37.1 , 37.88, 38.66, 39.44, 40.22, 41.  , 41.78, 42.56, 43.34,\n",
       "       44.12, 44.9 , 45.68, 46.46, 47.24, 48.02, 48.8 , 49.58, 50.36,\n",
       "       51.14, 51.92, 52.7 , 53.48, 54.26, 55.04, 55.82, 56.6 , 57.38,\n",
       "       58.16, 58.94, 59.72, 60.5 , 61.28, 62.06, 62.84, 63.62, 64.4 ,\n",
       "       65.18, 65.96, 66.74, 67.52, 68.3 , 69.08, 69.86, 70.64, 71.42,\n",
       "       72.2 , 72.98, 73.76, 74.54, 75.32, 76.1 , 76.88, 77.66, 78.44,\n",
       "       79.22, 80.  ])"
      ]
     },
     "execution_count": 5,
     "metadata": {},
     "output_type": "execute_result"
    }
   ],
   "source": [
    "#1.创建一个有101个元素的一维数组，此数组是由“一个起始值为2，截止值为80（包括截止值）的等差数列”转换而来的。\n",
    "a1=np.linspace(2,80,101)\n",
    "a1"
   ]
  },
  {
   "cell_type": "code",
   "execution_count": 6,
   "id": "54a6a5ff-b55a-445d-8deb-0dd225762f46",
   "metadata": {},
   "outputs": [
    {
     "name": "stdout",
     "output_type": "stream",
     "text": [
      "[[ 2  2  3  4  5  5  6  7  8  9  9]\n",
      " [10 11 12 12 13 14 15 16 16 17 18]\n",
      " [19 19 20 21 22 23 23 24 25 26 26]\n",
      " [27 28 29 30 30 31 32 33 33 34 35]\n",
      " [36 37 37 38 39 40 41 41 42 43 44]\n",
      " [44 45 46 47 48 48 49 50 51 51 52]\n",
      " [53 54 55 55 56 57 58 58 59 60 61]\n",
      " [62 62 63 64 65 65 66 67 68 69 69]\n",
      " [70 71 72 72 73 74 75 76 76 77 78]\n",
      " [79 80  0  0  0  0  0  0  0  0  0]]\n"
     ]
    }
   ],
   "source": [
    "#2.把上题中的一维数组改为10*11的二维数组，不够的元素用0补充\n",
    "a2= np.zeros((10, 11), dtype=int)  \n",
    "a2.ravel()[:101] = a1\n",
    "print(a2)"
   ]
  },
  {
   "cell_type": "code",
   "execution_count": 3,
   "id": "4e09bbea-5db0-4702-a881-959eb592ae12",
   "metadata": {},
   "outputs": [
    {
     "name": "stdout",
     "output_type": "stream",
     "text": [
      "[1. 1. 1. 1. 1.]\n"
     ]
    }
   ],
   "source": [
    "#3.创建长度为5的整型全一向量\n",
    "a3=np.ones(5)\n",
    "print(a3)"
   ]
  },
  {
   "cell_type": "code",
   "execution_count": 18,
   "id": "47dda7cd-0064-4cc3-9b97-4abb3cd5a949",
   "metadata": {},
   "outputs": [
    {
     "name": "stdout",
     "output_type": "stream",
     "text": [
      "[0 0 0 0 1 0 0 0 0 0]\n"
     ]
    }
   ],
   "source": [
    "#4.创建一个长度为10的零向量，并把第五个值赋值为1。\n",
    "a4= np.zeros((10), dtype=int) \n",
    "a4[4]=1\n",
    "print(a4)"
   ]
  },
  {
   "cell_type": "code",
   "execution_count": 19,
   "id": "94b3038f-0703-4f39-9b1c-4cbbb878d9e4",
   "metadata": {},
   "outputs": [
    {
     "name": "stdout",
     "output_type": "stream",
     "text": [
      "[10.  10.5 11.  11.5 12.  12.5 13.  13.5 14.  14.5 15.  15.5 16.  16.5\n",
      " 17.  17.5 18.  18.5 19.  19.5 20.  20.5 21.  21.5 22.  22.5 23.  23.5\n",
      " 24.  24.5 25.  25.5 26.  26.5 27.  27.5 28.  28.5 29.  29.5 30.  30.5\n",
      " 31.  31.5 32.  32.5 33.  33.5 34.  34.5 35.  35.5 36.  36.5 37.  37.5\n",
      " 38.  38.5 39.  39.5 40.  40.5 41.  41.5 42.  42.5 43.  43.5 44.  44.5\n",
      " 45.  45.5 46.  46.5 47.  47.5 48.  48.5 49. ]\n"
     ]
    }
   ],
   "source": [
    "#5.创建一个值域为10到49的向量，步长为0.5。\n",
    "a5=np.linspace(10,49,79)\n",
    "print(a5)"
   ]
  },
  {
   "cell_type": "code",
   "execution_count": 20,
   "id": "e25e1c15-0845-4971-a7ed-5da96c57390e",
   "metadata": {},
   "outputs": [
    {
     "name": "stdout",
     "output_type": "stream",
     "text": [
      "[49.  48.5 48.  47.5 47.  46.5 46.  45.5 45.  44.5 44.  43.5 43.  42.5\n",
      " 42.  41.5 41.  40.5 40.  39.5 39.  38.5 38.  37.5 37.  36.5 36.  35.5\n",
      " 35.  34.5 34.  33.5 33.  32.5 32.  31.5 31.  30.5 30.  29.5 29.  28.5\n",
      " 28.  27.5 27.  26.5 26.  25.5 25.  24.5 24.  23.5 23.  22.5 22.  21.5\n",
      " 21.  20.5 20.  19.5 19.  18.5 18.  17.5 17.  16.5 16.  15.5 15.  14.5\n",
      " 14.  13.5 13.  12.5 12.  11.5 11.  10.5 10. ]\n"
     ]
    }
   ],
   "source": [
    "#6.将上一个向量进行反转（第一个元素变为最后一个元素，第二个元素变为倒数第二个元素，等等）。\n",
    "a6=a5[::-1]\n",
    "print(a6)"
   ]
  },
  {
   "cell_type": "code",
   "execution_count": 21,
   "id": "cc100ce8-0e87-43e8-8f76-017037b784b7",
   "metadata": {},
   "outputs": [
    {
     "name": "stdout",
     "output_type": "stream",
     "text": [
      "[[0 1 2]\n",
      " [3 4 5]\n",
      " [6 7 8]]\n"
     ]
    }
   ],
   "source": [
    "#7.创建一个3x3的矩阵，值域为0到8。\n",
    "a7= np.arange(0,9).reshape(3,3)\n",
    "print(a7)"
   ]
  },
  {
   "cell_type": "code",
   "execution_count": 22,
   "id": "c995f651-3ef1-41d6-8ecb-9ada657dc62d",
   "metadata": {},
   "outputs": [
    {
     "data": {
      "text/plain": [
       "array([4, 5])"
      ]
     },
     "execution_count": 22,
     "metadata": {},
     "output_type": "execute_result"
    }
   ],
   "source": [
    "#8.将上题中4、5两个元素切出来。\n",
    "a8=a7[[1,1],[1,2]]\n",
    "a8"
   ]
  },
  {
   "cell_type": "code",
   "execution_count": 23,
   "id": "39afb1fc-818f-47af-9563-493c435767f2",
   "metadata": {},
   "outputs": [
    {
     "name": "stdout",
     "output_type": "stream",
     "text": [
      "[[1 1]\n",
      " [1 1]\n",
      " [1 1]]\n"
     ]
    }
   ],
   "source": [
    "#9.创建一个3x2的二维数组。\n",
    "a9=np.ones(6).reshape(3,2)\n",
    "print(a9.astype(int))\n"
   ]
  },
  {
   "cell_type": "code",
   "execution_count": 24,
   "id": "29342597-fd84-4b3d-aeb9-e2c4e65b2bb0",
   "metadata": {},
   "outputs": [
    {
     "data": {
      "text/plain": [
       "array([[0, 0, 0, 0, 0],\n",
       "       [0, 1, 1, 1, 0],\n",
       "       [0, 1, 1, 1, 0],\n",
       "       [0, 1, 1, 1, 0],\n",
       "       [0, 0, 0, 0, 0]])"
      ]
     },
     "execution_count": 24,
     "metadata": {},
     "output_type": "execute_result"
    }
   ],
   "source": [
    "#10.创建一个10*10的2维数组，该数组边界值为0，内部的值为1。\n",
    "a10 = np.ones((5, 5), dtype=int)  \n",
    "a10[[0,-1 ],...] = 0 \n",
    "a10[...,[-1,0]] = 0 \n",
    "a10"
   ]
  },
  {
   "cell_type": "code",
   "execution_count": 42,
   "id": "bf17b4aa-2959-4b65-a1bc-effb4e722a89",
   "metadata": {},
   "outputs": [
    {
     "ename": "ValueError",
     "evalue": "operands could not be broadcast together with shapes (5,3) (3,2) ",
     "output_type": "error",
     "traceback": [
      "\u001b[1;31m---------------------------------------------------------------------------\u001b[0m",
      "\u001b[1;31mValueError\u001b[0m                                Traceback (most recent call last)",
      "Cell \u001b[1;32mIn[42], line 3\u001b[0m\n\u001b[0;32m      1\u001b[0m b1\u001b[38;5;241m=\u001b[39mnp\u001b[38;5;241m.\u001b[39marange(\u001b[38;5;241m15\u001b[39m)\u001b[38;5;241m.\u001b[39mreshape(\u001b[38;5;241m5\u001b[39m,\u001b[38;5;241m3\u001b[39m)\n\u001b[0;32m      2\u001b[0m b2\u001b[38;5;241m=\u001b[39mnp\u001b[38;5;241m.\u001b[39marange(\u001b[38;5;241m6\u001b[39m)\u001b[38;5;241m.\u001b[39mreshape(\u001b[38;5;241m3\u001b[39m,\u001b[38;5;241m2\u001b[39m)\n\u001b[1;32m----> 3\u001b[0m b1\u001b[38;5;241m*\u001b[39mb2\u001b[38;5;241m==\u001b[39mb3\n\u001b[0;32m      4\u001b[0m \u001b[38;5;28mprint\u001b[39m(b3)\n",
      "\u001b[1;31mValueError\u001b[0m: operands could not be broadcast together with shapes (5,3) (3,2) "
     ]
    }
   ],
   "source": [
    "#11.一个5x3的数组和一个3x2的数组是否可以相乘，如果可以写出相乘之后数组的形状，如果不可以请说出理由。\n",
    "b1=np.arange(15).reshape(5,3)\n",
    "b2=np.arange(6).reshape(3,2)\n",
    "b1*b2==b3\n",
    "print(b3)\n",
    "#答案：不可以，返回形状不匹配，具体返回operands could not be broadcast together with shapes (5,3) (3,2)"
   ]
  },
  {
   "cell_type": "code",
   "execution_count": 53,
   "id": "cf03bdb5-d055-460b-9aa4-2e4c66426ac3",
   "metadata": {},
   "outputs": [
    {
     "name": "stdout",
     "output_type": "stream",
     "text": [
      "[[[3. 3. 3. 3.]\n",
      "  [3. 3. 3. 3.]\n",
      "  [3. 3. 3. 3.]\n",
      "  [3. 3. 3. 3.]]\n",
      "\n",
      " [[3. 3. 3. 3.]\n",
      "  [3. 3. 3. 3.]\n",
      "  [3. 3. 3. 3.]\n",
      "  [3. 3. 3. 3.]]\n",
      "\n",
      " [[3. 3. 3. 3.]\n",
      "  [3. 3. 3. 3.]\n",
      "  [3. 3. 3. 3.]\n",
      "  [3. 3. 3. 3.]]\n",
      "\n",
      " [[3. 3. 3. 3.]\n",
      "  [3. 3. 3. 3.]\n",
      "  [3. 3. 3. 3.]\n",
      "  [3. 3. 3. 3.]]\n",
      "\n",
      " [[3. 3. 3. 3.]\n",
      "  [3. 3. 3. 3.]\n",
      "  [3. 3. 3. 3.]\n",
      "  [3. 3. 3. 3.]]]\n"
     ]
    }
   ],
   "source": [
    "#12.一个5x1x4的数组和一个4x4的数组是否可以相加，如果可以写出相加之后数组的形状，如果不可以请说出理由。\n",
    "c1 = np.zeros(16).reshape(4,4)\n",
    "c2 = np.full((5, 1, 4), 3)  \n",
    "print(c1+c2)"
   ]
  },
  {
   "cell_type": "code",
   "execution_count": 10,
   "id": "4f14653d-97cc-4f33-9e0d-aadedcde1324",
   "metadata": {},
   "outputs": [
    {
     "data": {
      "text/plain": [
       "array([[[20, 21, 22],\n",
       "        [23, 24, 25]],\n",
       "\n",
       "       [[26, 27, 28],\n",
       "        [29, 30, 31]],\n",
       "\n",
       "       [[32, 33, 34],\n",
       "        [35, 36, 37]],\n",
       "\n",
       "       [[38, 39, 40],\n",
       "        [41, 42, 43]],\n",
       "\n",
       "       [[44, 45, 46],\n",
       "        [47, 48, 49]]])"
      ]
     },
     "execution_count": 10,
     "metadata": {},
     "output_type": "execute_result"
    }
   ],
   "source": [
    "#13.创建一个值域为20到49的一维数组，将此数组转换为5*2*3的三维数组。\n",
    "a13= np.arange(20,50).reshape(5,2,3)\n",
    "a13"
   ]
  },
  {
   "cell_type": "code",
   "execution_count": 11,
   "id": "cf4aadd2-959b-4120-91eb-c70c6cd1b39b",
   "metadata": {},
   "outputs": [
    {
     "data": {
      "text/plain": [
       "array([4.00000000e+00, 8.00000000e+00, 1.60000000e+01, 3.20000000e+01,\n",
       "       6.40000000e+01, 1.28000000e+02, 2.56000000e+02, 5.12000000e+02,\n",
       "       1.02400000e+03, 2.04800000e+03, 4.09600000e+03, 8.19200000e+03,\n",
       "       1.63840000e+04, 3.27680000e+04, 6.55360000e+04, 1.31072000e+05,\n",
       "       2.62144000e+05, 5.24288000e+05, 1.04857600e+06, 2.09715200e+06,\n",
       "       4.19430400e+06, 8.38860800e+06, 1.67772160e+07, 3.35544320e+07,\n",
       "       6.71088640e+07, 1.34217728e+08, 2.68435456e+08, 5.36870912e+08,\n",
       "       1.07374182e+09])"
      ]
     },
     "execution_count": 11,
     "metadata": {},
     "output_type": "execute_result"
    }
   ],
   "source": [
    "#14.罗列出2^2,2^3,2^4，一直到2^30。\n",
    "a14=np.logspace(2,30,29,base=2)\n",
    "a14"
   ]
  },
  {
   "cell_type": "code",
   "execution_count": 12,
   "id": "a1e70a68-77ef-4390-9cbf-3cc4563dc539",
   "metadata": {},
   "outputs": [
    {
     "name": "stdout",
     "output_type": "stream",
     "text": [
      "[[ 0  2  4  6  8]\n",
      " [10 12 14 16 18]\n",
      " [20 22 24 26 28]\n",
      " [30 32 34 36 38]]\n"
     ]
    }
   ],
   "source": [
    "#15.产生下图中的二维数组A。图片自己翻题目看吧\n",
    "a15=np.linspace(0,38,20,dtype=int)\n",
    "print(a15.reshape(4,5))"
   ]
  },
  {
   "cell_type": "code",
   "execution_count": 13,
   "id": "a1821d23-5249-4bda-8527-4880ec354093",
   "metadata": {},
   "outputs": [
    {
     "name": "stdout",
     "output_type": "stream",
     "text": [
      "[10 12 14 16 18]\n",
      "[30 32 34 36 38]\n"
     ]
    }
   ],
   "source": [
    "#16通过对A切片，获得下面数组。\n",
    "a16=a15.reshape(4,5)\n",
    "print(a16[1, :])\n",
    "print(a16[3, :])"
   ]
  },
  {
   "cell_type": "code",
   "execution_count": 14,
   "id": "22fe0f2f-81d5-4fa8-be4b-f767e9214212",
   "metadata": {},
   "outputs": [
    {
     "data": {
      "text/plain": [
       "array([[ 0,  2,  4],\n",
       "       [10, 12, 14],\n",
       "       [20, 22, 24],\n",
       "       [30, 32, 34]])"
      ]
     },
     "execution_count": 14,
     "metadata": {},
     "output_type": "execute_result"
    }
   ],
   "source": [
    "#17通过对A切片，获得下面数组。\n",
    "a17=a16[...,0:3]\n",
    "a17"
   ]
  },
  {
   "cell_type": "code",
   "execution_count": 15,
   "id": "1362d967-d49f-4cb1-a8c8-bec5289d74cf",
   "metadata": {},
   "outputs": [
    {
     "data": {
      "text/plain": [
       "array([ 2, 10, 18, 38, 22,  6])"
      ]
     },
     "execution_count": 15,
     "metadata": {},
     "output_type": "execute_result"
    }
   ],
   "source": [
    "#18.通过对A切片，获得下面数组。\n",
    "a18=a16[\n",
    "    [0,1,1,3,2,0],[1,0,4,4,1,3]\n",
    "]\n",
    "a18"
   ]
  },
  {
   "cell_type": "code",
   "execution_count": 16,
   "id": "ebdfa92f-e806-458e-b83b-3e86fa3cc8d8",
   "metadata": {},
   "outputs": [
    {
     "name": "stdout",
     "output_type": "stream",
     "text": [
      "[[11  2  4  6  8]\n",
      " [11 12 14 16 18]\n",
      " [11 22 24 26 28]\n",
      " [11 32 34 36 38]]\n"
     ]
    }
   ],
   "source": [
    "#a19.使用切片赋值语句将数组A改为下面数组。\n",
    "a16[...,0]=11\n",
    "print(a16)"
   ]
  },
  {
   "cell_type": "code",
   "execution_count": 17,
   "id": "7a230e70-f352-4f40-9c66-dec9c5fb5108",
   "metadata": {},
   "outputs": [
    {
     "name": "stdout",
     "output_type": "stream",
     "text": [
      "[ 1  2  4 -5]\n"
     ]
    }
   ],
   "source": [
    "#20.从数组[1, 2, 0, 0, 4, 0,-5]中找出非0元素。\n",
    "a20=np.array([1,2,0,0,4,0,-5])\n",
    "print(a20[a20!=0])"
   ]
  },
  {
   "cell_type": "code",
   "execution_count": null,
   "id": "187f5535-1fbd-4cf3-b456-145df6f05c06",
   "metadata": {},
   "outputs": [],
   "source": []
  },
  {
   "cell_type": "code",
   "execution_count": null,
   "id": "e20d2ce7-0050-4846-a77d-7dc183fbcd5b",
   "metadata": {},
   "outputs": [],
   "source": []
  }
 ],
 "metadata": {
  "kernelspec": {
   "display_name": "Python 3 (ipykernel)",
   "language": "python",
   "name": "python3"
  },
  "language_info": {
   "codemirror_mode": {
    "name": "ipython",
    "version": 3
   },
   "file_extension": ".py",
   "mimetype": "text/x-python",
   "name": "python",
   "nbconvert_exporter": "python",
   "pygments_lexer": "ipython3",
   "version": "3.12.4"
  }
 },
 "nbformat": 4,
 "nbformat_minor": 5
}
